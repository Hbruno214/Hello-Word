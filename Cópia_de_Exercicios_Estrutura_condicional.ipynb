{
  "nbformat": 4,
  "nbformat_minor": 0,
  "metadata": {
    "colab": {
      "provenance": [],
      "toc_visible": true,
      "include_colab_link": true
    },
    "kernelspec": {
      "name": "python3",
      "display_name": "Python 3"
    },
    "language_info": {
      "name": "python"
    }
  },
  "cells": [
    {
      "cell_type": "markdown",
      "metadata": {
        "id": "view-in-github",
        "colab_type": "text"
      },
      "source": [
        "<a href=\"https://colab.research.google.com/github/Hbruno214/Hello-Word/blob/main/C%C3%B3pia_de_Exercicios_Estrutura_condicional.ipynb\" target=\"_parent\"><img src=\"https://colab.research.google.com/assets/colab-badge.svg\" alt=\"Open In Colab\"/></a>"
      ]
    },
    {
      "cell_type": "markdown",
      "source": [],
      "metadata": {
        "id": "QEFnDXZozNkm"
      }
    },
    {
      "cell_type": "markdown",
      "source": [
        "# Exercício 01"
      ],
      "metadata": {
        "id": "8AYQbPXb0Po6"
      }
    },
    {
      "cell_type": "markdown",
      "source": [
        "**Simulador de entrega de encomendas:**\n",
        "\n",
        "Você está desenvolvendo um programa para um serviço de entrega de encomendas. O programa precisa determinar se uma entrega deve ser feita por transporte terrestre ou aéreo, com base na distância a ser percorrida. Escreva um programa que solicite ao usuário a distância em quilômetros e exiba uma mensagem informando o meio de transporte recomendado. Use uma expressão condicional para verificar a distância e determinar se a entrega deve ser feita por transporte terrestre (até 500 km) ou aéreo (acima de 500 km).\n",
        "\n",
        "**Exemplo do programa em execução:**\n",
        "```\n",
        "Digite a distância da entrega em quilômetros: 700\n",
        "A entrega deve ser feita por transporte aéreo.\n",
        "```\n",
        "\n"
      ],
      "metadata": {
        "id": "cf2IOOg70XkI"
      }
    },
    {
      "cell_type": "code",
      "source": [
        "distancia = float(input(\"Digite a distância da entrega em quilômetros: \"))\n",
        "\n",
        "if distancia <= 500:\n",
        "    print(\"Recomenda-se fazer a entrega por transporte terrestre.\")\n",
        "else:\n",
        "    print(\"Recomenda-se fazer a entrega por transporte aéreo.\")"
      ],
      "metadata": {
        "id": "5CeYx4iG0pyp",
        "outputId": "6dc3945d-f55f-4ba1-988a-6ae0d93353e8",
        "colab": {
          "base_uri": "https://localhost:8080/"
        }
      },
      "execution_count": null,
      "outputs": [
        {
          "output_type": "stream",
          "name": "stdout",
          "text": [
            "Digite a distância da entrega em quilômetros: 700\n",
            "Recomenda-se fazer a entrega por transporte aéreo.\n"
          ]
        }
      ]
    },
    {
      "cell_type": "markdown",
      "source": [
        "# Exercício 02"
      ],
      "metadata": {
        "id": "NnNsujMF0e8X"
      }
    },
    {
      "cell_type": "markdown",
      "source": [
        "**Calculadora de desconto:**\n",
        "\n",
        "Você está criando uma calculadora de desconto para uma loja online. O programa precisa calcular o valor final de uma compra com base no preço original e no percentual de desconto. Escreva um programa que solicite ao usuário o preço original e o percentual de desconto, e exiba o valor final após a aplicação do desconto. Use uma expressão condicional para verificar se o percentual de desconto é válido (entre 0% e 100%) e calcular o valor final corretamente.\n",
        "\n",
        "**Exemplo do programa em execução:**\n",
        "```\n",
        "Digite o preço original: 50.00\n",
        "Digite o percentual de desconto: 25\n",
        "O valor final da compra é R$37.50\n",
        "```\n",
        "\n"
      ],
      "metadata": {
        "id": "tJTBSrlRzroi"
      }
    },
    {
      "cell_type": "code",
      "source": [
        "preco_original = float(input(\"Digite o preço original: \"))\n",
        "percentual_desconto = float(input(\"Digite o percentual de desconto: \"))\n",
        "\n",
        "if percentual_desconto >= 0 and percentual_desconto <= 100:\n",
        "    valor_desconto = preco_original * (percentual_desconto / 100)\n",
        "    preco_final = preco_original - valor_desconto\n",
        "    print(\"O valor final da compra é R${:.2f}\".format(preco_final))\n",
        "else:\n",
        "    print(\"Percentual de desconto inválido. Por favor, digite um valor entre 0 e 100.\")"
      ],
      "metadata": {
        "id": "-2776JOD0Y7Y",
        "outputId": "bed7a8fb-83a4-4fb1-e45a-ab55be57bd0d",
        "colab": {
          "base_uri": "https://localhost:8080/"
        }
      },
      "execution_count": null,
      "outputs": [
        {
          "output_type": "stream",
          "name": "stdout",
          "text": [
            "Digite o preço original: 47.00\n",
            "Digite o percentual de desconto: 10\n",
            "O valor final da compra é R$42.30\n"
          ]
        }
      ]
    },
    {
      "cell_type": "markdown",
      "source": [
        "# Exercício 03"
      ],
      "metadata": {
        "id": "kpmxOvwD0uaJ"
      }
    },
    {
      "cell_type": "markdown",
      "source": [
        "**Verificador de idade para um jogo:**\n",
        "\n",
        "Você está desenvolvendo um jogo e precisa verificar se o jogador é elegível para jogá-lo com base em sua idade. Escreva um programa que solicite ao usuário a sua data de nascimento e exiba uma mensagem informando se ele pode jogar o jogo ou não. Use uma expressão condicional para verificar se a idade do jogador é maior ou igual à idade mínima requerida para jogar.\n",
        "\n",
        "**Exemplo do programa em execução**:\n",
        "```\n",
        "Digite sua data de nascimento (formato: dd/mm/aaaa): 15/07/2005\n",
        "Desculpe, você não tem idade suficiente para jogar este jogo.\n",
        "```\n",
        "\n"
      ],
      "metadata": {
        "id": "bIAxYLDd0xup"
      }
    },
    {
      "cell_type": "code",
      "source": [
        "from datetime import date\n",
        "\n",
        "data_nascimento = input(\"Digite sua data de nascimento (formato: dd/mm/aaaa): \")\n",
        "\n",
        "\n",
        "dia, mes, ano = map(int, data_nascimento.split('/'))\n",
        "data_atual = date.today()\n",
        "idade = data_atual.year - ano\n",
        "idade_minima = 18\n",
        "\n",
        "if idade >= idade_minima:\n",
        "    print(\"Você pode jogar o jogo!\")\n",
        "else:\n",
        "    print(\"Desculpe, você não tem idade suficiente para jogar este jogo.\")"
      ],
      "metadata": {
        "id": "fn2eHjWJ1SqR",
        "outputId": "763df2b3-fae2-4b9d-be4b-845b2c83775a",
        "colab": {
          "base_uri": "https://localhost:8080/"
        }
      },
      "execution_count": null,
      "outputs": [
        {
          "output_type": "stream",
          "name": "stdout",
          "text": [
            "Digite sua data de nascimento (formato: dd/mm/aaaa): 13/05/2005\n",
            "Você pode jogar o jogo!\n"
          ]
        }
      ]
    },
    {
      "cell_type": "markdown",
      "source": [
        "# Exercício 04"
      ],
      "metadata": {
        "id": "7t8YoMCh2EL1"
      }
    },
    {
      "cell_type": "markdown",
      "source": [
        "**Calculadora de Impostos:**\n",
        "\n",
        "Você está criando uma calculadora de impostos para uma empresa que precisa determinar o valor a ser pago de INSS e IRPF (se aplicável) com base no salário do funcionário. Escreva um programa que solicite o salário bruto do funcionário, e, a partir dos valores de alíquota do [INSS](https://blog.convenia.com.br/tabela-do-inss-para-2023-confira-os-reajustes/) e do [IRPF](https://investnews.com.br/economia/nova-tabela-imposto-de-renda-o-que-muda/?gclid=CjwKCAjw1YCkBhAOEiwA5aN4AbNhdOnZ2H2vwBW7C-W5O7ztkn657JxG_OrKhpB7Y2Tx4oUomAYtxxoCV04QAvD_BwE) seu programa dirá quais valores em reais dos respectivos descontos e quanto será o salário líquido do funcionário. Você deve implementar todas as regras tanto de teto do INSS, quanto de isenção do IRPF.\n",
        "\n",
        "**Exemplo do programa em execução:**\n",
        "```\n",
        "Informe o salário bruto do funcionário: 4000\n",
        "De acordo com o ano de 2023, o funcionário pagará:\n",
        "-> 14% de INSS, que equivale a -R$ 560,00\n",
        "-> 22,5% de IRPF, que equivale a -R$ 900,00\n",
        "-------------\n",
        "Salário líquido será de: R$ 2540,00\n",
        "```\n",
        "\n"
      ],
      "metadata": {
        "id": "YiEzJ-M12HVZ"
      }
    },
    {
      "cell_type": "code",
      "source": [
        "salario_bruto = float(input(\"Informe o salário bruto do funcionário: \"))\n",
        "if salario_bruto <= 1100:\n",
        "    valor_inss = salario_bruto * 0.075\n",
        "elif salario_bruto <= 2203.48:\n",
        "    valor_inss = salario_bruto * 0.09\n",
        "elif salario_bruto <= 3305.22:\n",
        "    valor_inss = salario_bruto * 0.12\n",
        "else:\n",
        "    valor_inss = salario_bruto * 0.14\n",
        "\n",
        "if salario_bruto <= 1903.99:\n",
        "    valor_irpf = 0\n",
        "elif salario_bruto <= 2826.65:\n",
        "    valor_irpf = salario_bruto * 0.075\n",
        "elif salario_bruto <= 3751.05:\n",
        "    valor_irpf = salario_bruto * 0.15\n",
        "elif salario_bruto <= 4664.68:\n",
        "    valor_irpf = salario_bruto * 0.225\n",
        "else:\n",
        "    valor_irpf = salario_bruto * 0.275\n",
        "\n",
        "salario_liquido = salario_bruto - valor_inss - valor_irpf\n",
        "\n",
        "print(\"De acordo com o ano de 2023, o funcionário pagará:\")\n",
        "print(\"-> {:.1f}% de INSS, que equivale a -R$ {:.2f}\".format(valor_inss / salario_bruto * 100, valor_inss))\n",
        "print(\"-> {:.1f}% de IRPF, que equivale a -R$ {:.2f}\".format(valor_irpf / salario_bruto * 100, valor_irpf))\n",
        "print(\"-------------\")\n",
        "print(\"Salário líquido será de: R$ {:.2f}\".format(salario_liquido))"
      ],
      "metadata": {
        "id": "h1z1RUrx3v8K",
        "outputId": "1fdff8c4-315f-4449-fbe2-9f4db6555357",
        "colab": {
          "base_uri": "https://localhost:8080/"
        }
      },
      "execution_count": null,
      "outputs": [
        {
          "output_type": "stream",
          "name": "stdout",
          "text": [
            "Informe o salário bruto do funcionário: 5000\n",
            "De acordo com o ano de 2023, o funcionário pagará:\n",
            "-> 14.0% de INSS, que equivale a -R$ 700.00\n",
            "-> 27.5% de IRPF, que equivale a -R$ 1375.00\n",
            "-------------\n",
            "Salário líquido será de: R$ 2925.00\n"
          ]
        }
      ]
    },
    {
      "cell_type": "markdown",
      "source": [
        "# Exercício 05"
      ],
      "metadata": {
        "id": "Pr3xzxSu4bIj"
      }
    },
    {
      "cell_type": "markdown",
      "source": [
        "**Verificador de Número Primo:**\n",
        "\n",
        "Você está desenvolvendo um programa para verificar se um número digitado pelo usuário é primo. Escreva um programa que solicite ao usuário um número inteiro e utilize expressões condicionais para verificar se o número é primo ou não. Um número primo é aquele que é divisível apenas por 1 e por ele mesmo, sem deixar resto. Exiba uma mensagem informando se o número é primo ou não. Seu programa não deverá permitir números reais. Caso o usuário informe um número real, seu programa deve exibir uma mensagem de erro.\n",
        "\n",
        "**Exemplo do programa em execução:**\n",
        "```\n",
        "Digite um número inteiro: 17\n",
        "O número 17 é primo.\n",
        "```\n",
        "\n",
        "```\n",
        "Digite um número inteiro: 3.5\n",
        "O número informado não é suportado.\n",
        "```\n",
        "\n"
      ],
      "metadata": {
        "id": "qFSHQLQI4gGS"
      }
    },
    {
      "cell_type": "code",
      "source": [
        "numero = int(input(\"Digite um número inteiro: \"))\n",
        "\n",
        "if numero < 2:\n",
        "    print(\"O número não é primo.\")\n",
        "else:\n",
        "    is_primo = True\n",
        "    for i in range(2, numero):\n",
        "        if numero % i == 0:\n",
        "            is_primo = False\n",
        "            break\n",
        "    if is_primo:\n",
        "        print(\"O número {} é primo.\".format(numero))\n",
        "    else:\n",
        "        print(\"O número {} não é primo.\".format(numero))"
      ],
      "metadata": {
        "id": "YF4e-aK25BGT",
        "outputId": "57f153b9-909c-4965-85d3-6c4916dcd783",
        "colab": {
          "base_uri": "https://localhost:8080/"
        }
      },
      "execution_count": null,
      "outputs": [
        {
          "output_type": "stream",
          "name": "stdout",
          "text": [
            "Digite um número inteiro: 11\n",
            "O número 11 é primo.\n"
          ]
        }
      ]
    },
    {
      "cell_type": "markdown",
      "source": [
        "# Exercício 06"
      ],
      "metadata": {
        "id": "93dcWFKE5ZF_"
      }
    },
    {
      "cell_type": "markdown",
      "source": [
        "**Sistema de Aprovação de Empréstimo:**\n",
        "\n",
        "Você está desenvolvendo um sistema para um banco que analisa se um cliente é elegível para um empréstimo com base em algumas condições. Escreva um programa que solicite ao usuário o valor do salário mensal, o valor do empréstimo desejado e a idade do cliente. Utilize expressões condicionais, operadores relacionais e operadores lógicos para determinar se o cliente é elegível para o empréstimo. As condições são as seguintes:\n",
        "O salário mensal deve ser maior ou igual a R$ 2000.\n",
        "O valor do empréstimo desejado deve ser menor ou igual a 10 vezes o salário mensal.\n",
        "A idade do cliente deve estar entre 18 e 65 anos.\n",
        "\n",
        "**Exemplo do programa em execução:**\n",
        "```\n",
        "Digite o valor do salário mensal: 2500\n",
        "Digite o valor do empréstimo desejado: 18000\n",
        "Digite a idade do cliente: 32\n",
        "Empréstimo aprovado!\n",
        "```\n",
        "\n"
      ],
      "metadata": {
        "id": "LEB-d8jo5con"
      }
    },
    {
      "cell_type": "code",
      "source": [
        "salario_mensal = float(input(\"Digite o valor do salário mensal: \"))\n",
        "emprestimo_desejado = float(input(\"Digite o valor do empréstimo desejado: \"))\n",
        "idade_cliente = int(input(\"Digite a idade do cliente: \"))\n",
        "\n",
        "if salario_mensal >= 2000 and emprestimo_desejado <= 10 * salario_mensal and 18 <= idade_cliente <= 65:\n",
        "    print(\"O cliente é elegível para o empréstimo.\")\n",
        "else:\n",
        "    print(\"O cliente não é elegível para o empréstimo.\")"
      ],
      "metadata": {
        "id": "rxWQQovL5n6H",
        "outputId": "0f392388-586c-4ca8-dc26-3b5e2b63931f",
        "colab": {
          "base_uri": "https://localhost:8080/"
        }
      },
      "execution_count": null,
      "outputs": [
        {
          "output_type": "stream",
          "name": "stdout",
          "text": [
            "Digite o valor do salário mensal: 4500\n",
            "Digite o valor do empréstimo desejado: 2000\n",
            "Digite a idade do cliente: 32\n",
            "O cliente é elegível para o empréstimo.\n"
          ]
        }
      ]
    },
    {
      "cell_type": "markdown",
      "source": [
        "# Exercício 07"
      ],
      "metadata": {
        "id": "AK3KCJEK5pUw"
      }
    },
    {
      "cell_type": "markdown",
      "source": [
        "**Sistema de Vendas com Desconto Progressivo:**\n",
        "\n",
        "Você está desenvolvendo um sistema de vendas para uma loja que oferece descontos progressivos com base no valor total da compra. Escreva um programa que solicite ao usuário o valor total da compra para calcular o desconto a ser aplicado. As regras de desconto são as seguintes:\n",
        "\n",
        "- Se o valor total da compra for maior ou igual a R\\$ 100, aplique um desconto de 10%.\n",
        "- Se o valor total da compra for maior ou igual a R\\$ 200, aplique um desconto de 20%.\n",
        "- Se o valor total da compra for maior ou igual a R\\$ 500, aplique um desconto de 30%.\n",
        "\n",
        "**Exemplos do programa em execução:**\n",
        "```\n",
        "Digite o valor total da compra: 150\n",
        "O desconto a ser aplicado é de 10%. Valor total com desconto: R$ 135.\n",
        "```\n",
        "\n",
        "```\n",
        "Digite o valor total da compra: 250\n",
        "O desconto a ser aplicado é de 20%. Valor total com desconto: R$ 200.\n",
        "```\n",
        "\n",
        "```\n",
        "Digite o valor total da compra: 600\n",
        "O desconto a ser aplicado é de 30%. Valor total com desconto: R$ 420.\n",
        "```\n",
        "\n",
        "```\n",
        "Digite o valor total da compra: 50\n",
        "Não foi aplicada nenhuma regra de desconto. Valor total a pagar: R$ 50.\n",
        "```\n",
        "\n",
        "```\n",
        "Digite o valor total da compra: 0\n",
        "Valor de compra inválido\n",
        "```\n",
        "\n",
        "```\n",
        "Digite o valor total da compra: -90\n",
        "Valor de compra inválido\n",
        "```\n",
        "\n",
        "\n",
        "\n"
      ],
      "metadata": {
        "id": "7kKGOPMg5sS4"
      }
    },
    {
      "cell_type": "code",
      "source": [
        "valor_compra = float(input(\"Digite o valor total da compra: \"))\n",
        "\n",
        "if valor_compra >= 0:\n",
        "    if valor_compra >= 500:\n",
        "        desconto = 0.3\n",
        "        mensagem_desconto = \"30%\"\n",
        "    elif valor_compra >= 200:\n",
        "        desconto = 0.2\n",
        "        mensagem_desconto = \"20%\"\n",
        "    elif valor_compra >= 100:\n",
        "        desconto = 0.1\n",
        "        mensagem_desconto = \"10%\"\n",
        "    else:\n",
        "        desconto = 0\n",
        "        mensagem_desconto = \"nenhum\"\n",
        "\n",
        "    valor_desconto = valor_compra * desconto\n",
        "    valor_total = valor_compra - valor_desconto\n",
        "\n",
        "    print(\"O desconto a ser aplicado é de {}. Valor total com desconto: R$ {:.2f}.\".format(mensagem_desconto, valor_total))\n",
        "else:\n",
        "    print(\"Valor de compra inválido.\")"
      ],
      "metadata": {
        "id": "zycL2EtZ7J6f",
        "outputId": "cd958f25-db78-441c-9aa5-f8534b0f9e9f",
        "colab": {
          "base_uri": "https://localhost:8080/"
        }
      },
      "execution_count": null,
      "outputs": [
        {
          "output_type": "stream",
          "name": "stdout",
          "text": [
            "Digite o valor total da compra: 1500\n",
            "O desconto a ser aplicado é de 30%. Valor total com desconto: R$ 1050.00.\n"
          ]
        }
      ]
    }
  ]
}